{
 "cells": [
  {
   "cell_type": "code",
   "execution_count": 5,
   "metadata": {
    "collapsed": false
   },
   "outputs": [
    {
     "name": "stdout",
     "output_type": "stream",
     "text": [
      "your name:你爹\n",
      "请输入日期格式为1.1:8.28\n",
      " 你爹\n",
      "是处女座\n"
     ]
    }
   ],
   "source": [
    "name = input('your name:')\n",
    "date = float(input('请输入日期格式为1.1:'))\n",
    "flag=1\n",
    "if 3.21<=date<=4.19 and flag:\n",
    "    print('',name)\n",
    "    print('是白羊座')\n",
    "    flag=0\n",
    "if 4.20<=date<=5.20 and flag:\n",
    "    print('',name)\n",
    "    print('是金牛座')\n",
    "    flag=0\n",
    "if 5.21<=date<=6.21 and flag:\n",
    "    print('',name)\n",
    "    print('是双子座')\n",
    "    flag=0\n",
    "if 6.22<=date<=7.22 and flag:\n",
    "    print('',name)\n",
    "    print('是巨蟹座')\n",
    "    flag=0\n",
    "if 7.23<=date<=8.22 and flag:\n",
    "    print('',name)\n",
    "    print('是狮子座')\n",
    "    flag=0\n",
    "if 8.23<=date<=9.22 and flag:\n",
    "    print('',name)\n",
    "    print('是处女座')\n",
    "    flag=0\n",
    "if 9.23<=date<=10.23 and flag:\n",
    "    print('',name)\n",
    "    print('是天秤座')\n",
    "    flag=0\n",
    "if 10.24<=date<=11.22 and flag:\n",
    "    print('',name)\n",
    "    print('是天蝎座')\n",
    "    flag=0\n",
    "if 11.23<=date<=12.21 and flag:\n",
    "    print('',name)\n",
    "    print('是射手座')\n",
    "    flag=0\n",
    "if 12.22<=date<=1.19 and flag:\n",
    "    print('',name)\n",
    "    print('是魔羯座')\n",
    "    flag=0\n",
    "if 1.20<=date<=2.18 and flag:\n",
    "    print('',name)\n",
    "    print('是水瓶座')\n",
    "    flag=0\n",
    "if 2.19<=date<=3.20 and flag:\n",
    "    print('',name)\n",
    "    print('是双鱼座')\n",
    "    flag=0\n"
   ]
  },
  {
   "cell_type": "code",
   "execution_count": 4,
   "metadata": {
    "collapsed": false
   },
   "outputs": [
    {
     "name": "stdout",
     "output_type": "stream",
     "text": [
      "your name:你爹\n",
      "请输入日期格式为1.1:3.21\n"
     ]
    }
   ],
   "source": []
  },
  {
   "cell_type": "code",
   "execution_count": 2,
   "metadata": {
    "collapsed": false
   },
   "outputs": [
    {
     "name": "stdout",
     "output_type": "stream",
     "text": [
      "请输入要输入的整数个数，回车结束。1\n",
      "请输入一个整数，回车结束1\n",
      "最大值是：asdfsafd 1\n",
      "最小值是： 1\n",
      "平均值是： 0.0\n"
     ]
    }
   ],
   "source": [
    "m = int(input('请输入要输入的整数个数，回车结束。'))\n",
    "\n",
    "max_number = int(input('请输入一个整数，回车结束'))\n",
    "min_number = max_number\n",
    "\n",
    "total = 0\n",
    "\n",
    "i = 1\n",
    "while i < m:\n",
    "    i += 1\n",
    "    n = int(input('请输入一个整数，回车结束'))\n",
    "    total += n\n",
    "    if n > max_number:\n",
    "        max_number = n\n",
    "    elif n < min_number:\n",
    "        min_number = n\n",
    "        \n",
    "print('最大值是：asdfsafd', max_number)\n",
    "print('最小值是：', min_number)\n",
    "print('平均值是：', total/m)"
   ]
  },
  {
   "cell_type": "code",
   "execution_count": 7,
   "metadata": {
    "collapsed": false
   },
   "outputs": [
    {
     "name": "stdout",
     "output_type": "stream",
     "text": [
      "输入第一个数大9\n",
      "输入第er个数小8\n",
      "1求和 2乘积 3求余 4除\n",
      "请输入选项3\n",
      "1\n"
     ]
    }
   ],
   "source": [
    "m = int(input('输入第一个数大'))\n",
    "n= int(input('输入第er个数小')) \n",
    "print('1求和 2乘积 3求余 4除')\n",
    "a = int(input('请输入选项'))\n",
    "product=1\n",
    "sum=0\n",
    "if a==1:\n",
    "    while n<=m:\n",
    "        sum+=n\n",
    "        n+=1\n",
    "        print(sum)\n",
    "elif a==2:\n",
    "        while n<=m:\n",
    "            product *=n\n",
    "            n+=1\n",
    "        print(product)\n",
    "if a==3:\n",
    "    print(m%n)\n",
    "elif a==4:\n",
    "    print('m/n')\n",
    "\n",
    "    "
   ]
  },
  {
   "cell_type": "code",
   "execution_count": 14,
   "metadata": {
    "collapsed": false
   },
   "outputs": [
    {
     "name": "stdout",
     "output_type": "stream",
     "text": [
      "jin tian de kong qi zhi linag:\n",
      "500\n",
      "kong qi zhi liang liang hao\n"
     ]
    }
   ],
   "source": [
    "print('jin tian de kong qi zhi linag:')\n",
    "a = int (input())\n",
    "if a<=500:\n",
    "    print('kong qi zhi liang liang hao')\n",
    "else :\n",
    "    print('xi guan jiu hao')"
   ]
  },
  {
   "cell_type": "code",
   "execution_count": 12,
   "metadata": {
    "collapsed": false
   },
   "outputs": [
    {
     "name": "stdout",
     "output_type": "stream",
     "text": [
      "my english is really poor\n",
      "the functions of this program are very poor\n",
      "pls enter a word my\n",
      "加s or es\n"
     ]
    }
   ],
   "source": [
    "print('my english is really poor')\n",
    "print('the functions of this program are very poor')\n",
    "string = input('pls enter a word')\n",
    "if (string.endswith('s')):\n",
    "    print('right')\n",
    "else:\n",
    "    print('加s or es')\n",
    "\n"
   ]
  },
  {
   "cell_type": "code",
   "execution_count": null,
   "metadata": {
    "collapsed": true
   },
   "outputs": [],
   "source": []
  }
 ],
 "metadata": {
  "kernelspec": {
   "display_name": "Python 3",
   "language": "python",
   "name": "python3"
  }
 },
 "nbformat": 4,
 "nbformat_minor": 2
}
