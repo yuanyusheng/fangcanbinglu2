{
 "cells": [
  {
   "cell_type": "code",
   "execution_count": 1,
   "metadata": {
    "collapsed": false
   },
   "outputs": [
    {
     "name": "stdout",
     "output_type": "stream",
     "text": [
      "请输入一个正整数，以回车结束。3\n",
      "请输入一个正整数，以回车结束。1\n",
      "请输入一个正整数，以回车结束。2\n",
      "请输入一个正整数，以回车结束。3\n",
      "6\n"
     ]
    }
   ],
   "source": [
    "n = int(input('请输入一个正整数，以回车结束。'))\n",
    "i=0\n",
    "total=0\n",
    "while i<n:\n",
    "    m=int(input('请输入一个正整数，以回车结束。'))\n",
    "    total=total+m\n",
    "    i=i+1\n",
    "    \n",
    "print(total)\n"
   ]
  },
  {
   "cell_type": "code",
   "execution_count": null,
   "metadata": {
    "collapsed": false
   },
   "outputs": [
    {
     "name": "stdout",
     "output_type": "stream",
     "text": [
      "请输入一个正整数，以回车结束。1\n",
      "1\n",
      "请输入一个正整数，以回车结束。2\n",
      "3\n",
      "请输入一个正整数，以回车结束。3\n",
      "6\n"
     ]
    }
   ],
   "source": [
    "i=1\n",
    "total=0\n",
    "while i>0:\n",
    "    i=i+1\n",
    "    n = int(input('请输入一个正整数，以回车结束。'))\n",
    "    total=total+n\n",
    "    print(total)"
   ]
  },
  {
   "cell_type": "code",
   "execution_count": 1,
   "metadata": {
    "collapsed": false
   },
   "outputs": [
    {
     "name": "stdout",
     "output_type": "stream",
     "text": [
      "请输入一个正整数，以回车结束。9\n",
      "9\n",
      "9\n",
      "请输入一个正整数，以回车结束。2\n",
      "11\n",
      "18\n",
      "请输入一个正整数，以回车结束。3\n",
      "14\n",
      "54\n",
      "请输入一个正整数，以回车结束。10\n",
      "24\n",
      "540\n",
      "请输入一个正整数，以回车结束。25\n",
      "24\n",
      "540\n"
     ]
    }
   ],
   "source": [
    "total=0\n",
    "product=1\n",
    "n =int (input('请输入一个正整数，以回车结束。')) \n",
    "flag=1\n",
    "while ((total>=n or product>=n*n)or flag):\n",
    "    total=total+n\n",
    "    product=product*n\n",
    "    n = int(input('请输入一个正整数，以回车结束。'))\n",
    "    flag=0\n",
    "print(total)\n",
    "print(product)"
   ]
  },
  {
   "cell_type": "code",
   "execution_count": null,
   "metadata": {
    "collapsed": true
   },
   "outputs": [],
   "source": []
  }
 ],
 "metadata": {
  "kernelspec": {
   "display_name": "Python 3",
   "language": "python",
   "name": "python3"
  },
  "language_info": {
   "codemirror_mode": {
    "name": "ipython",
    "version": 3
   },
   "file_extension": ".py",
   "mimetype": "text/x-python",
   "name": "python",
   "nbconvert_exporter": "python",
   "pygments_lexer": "ipython3",
   "version": "3.6.0"
  }
 },
 "nbformat": 4,
 "nbformat_minor": 2
}
